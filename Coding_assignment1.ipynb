{
 "cells": [
  {
   "cell_type": "code",
   "execution_count": 1,
   "metadata": {},
   "outputs": [
    {
     "name": "stdout",
     "output_type": "stream",
     "text": [
      "Populating the interactive namespace from numpy and matplotlib\n"
     ]
    }
   ],
   "source": [
    "import pandas as pd\n",
    "import numpy as np\n",
    "import os\n",
    "import pickle\n",
    "from operator import itemgetter\n",
    "%pylab inline"
   ]
  },
  {
   "cell_type": "code",
   "execution_count": 11,
   "metadata": {},
   "outputs": [],
   "source": [
    "def logloss(X, y, w):\n",
    "    '''\n",
    "        Loss function\n",
    "        Input: matrix X, a vector y and a vector w\n",
    "        Output: integer loss\n",
    "    '''\n",
    "    m = X.shape[0]\n",
    "    h = sigmoid(np.dot(X, w))\n",
    "    return (-1 / m) * np.sum(y * np.log(h) + (1 - y) * np.log(1 - h))\n",
    "\n",
    "def sigmoid(x):\n",
    "    '''\n",
    "        Sigmoid activation function\n",
    "        Input: float or vector\n",
    "        Output: float [0, 1]\n",
    "    '''\n",
    "    return 1 / (1 + np.exp(-x))\n",
    "\n",
    "def predict_probs(X, w):\n",
    "    '''\n",
    "        Transforms(maps) weights into probabilities\n",
    "        Input: Matrix X, vector w\n",
    "        Output: float [0, 1]\n",
    "    '''\n",
    "    return sigmoid(np.dot(X, w))\n",
    "\n",
    "def predicts(X, w, eps=0.5):\n",
    "    '''\n",
    "        Predicts a label for a sample or set of samples given a model and a threshold\n",
    "        Input: Matrix X, vector w, float eps\n",
    "        Output: Label 0 or 1\n",
    "    '''\n",
    "    return predict_probs(X, w) >= eps\n",
    "\n",
    "def accuracy(X, y, w):\n",
    "    '''\n",
    "        Computes the accuracy of the model predictions\n",
    "        Input: Matrix X, vector y, vector w\n",
    "        Outputs: float [0,1]\n",
    "    '''\n",
    "    p = predicts(X, w)\n",
    "    return (p == y).mean()\n",
    "\n",
    "def logit(X, y, w=np.random.uniform(-0.5,0.5, 2000), alpha=0.1, loss_function=logloss, num_epochs=300, batch_size =20000):\n",
    "    '''\n",
    "        Logistic regression function\n",
    "        All parameters are set to the defaults given by the assignment description\n",
    "        Takes the parameters and execute logistic regression. \n",
    "        Returns the best model, the array of training costs and validation costs\n",
    "\n",
    "        Input: Matrix X, vector y, vector w, float alpha, function loss_function\n",
    "                integer num_epochs, integer batch_size\n",
    "        Output: vector best_model, vector train_costs, vector val_costs\n",
    "    '''\n",
    "    num_parameters = len(X[0])\n",
    "    train_costs = []\n",
    "    val_costs = []\n",
    "    best_model = w\n",
    "    best_cost = 1\n",
    "    \n",
    "    for i in range(num_epochs):\n",
    "        for j in range(0, len(X), batch_size):\n",
    "            start = j * batch_size\n",
    "            end = j * batch_size + batch_size\n",
    "            batch_X = X[start:end]\n",
    "            batch_y = y[start:end]\n",
    "            \n",
    "            h = sigmoid(np.dot(batch_X, w))\n",
    "            gradient = np.dot(batch_X.T, (h - batch_y))\n",
    "            w -= (alpha / batch_size) * gradient\n",
    "        train_costs.append(loss_function(X, y, w))\n",
    "        val_costs.append(loss_function(X_val, y_val, w))\n",
    "        \n",
    "        if val_costs[-1] < best_cost:\n",
    "            best_model = w\n",
    "            best_cost = val_costs[-1]\n",
    "            \n",
    "    return best_model, train_costs, val_costs"
   ]
  },
  {
   "cell_type": "code",
   "execution_count": 3,
   "metadata": {},
   "outputs": [],
   "source": [
    "def read_files(address):\n",
    "    '''\n",
    "        Reads all files in a given a directory correcting encoding\n",
    "        Input: string adress\n",
    "        Output: list[string] \n",
    "    '''\n",
    "    my_files = os.listdir(address)\n",
    "    return [open(\"{}/{}\".format(address,i),'r', encoding='utf-8').read() for i in my_files]\n",
    "\n",
    "def shuffle_arr(arr, seed=314):\n",
    "    '''\n",
    "        Shuffles a list\n",
    "        Input: list arr\n",
    "    '''\n",
    "    np.random.seed(seed)\n",
    "    np.random.shuffle(arr)\n",
    "\n",
    "def clean_and_split(text):\n",
    "    '''\n",
    "        Takes a string, removes white spaces, makes it lowercase and splits given space\n",
    "        Input: string\n",
    "        Returns: list of strings\n",
    "    '''\n",
    "    return text.strip().lower().split()\n",
    "\n",
    "def vocabulary_builder(collection, size=2000):\n",
    "    '''\n",
    "        Takes a list of strings and creates a simple counter and vocabulary\n",
    "        Input: list of strings, integer size\n",
    "        output: list _vocab, list id2word, dict word2id\n",
    "    '''\n",
    "    vocab = {}\n",
    "    for sentence in collection:\n",
    "        for word in clean_and_split(sentence):\n",
    "            try:\n",
    "                vocab[word] += 1\n",
    "            except:\n",
    "                vocab[word] = 1\n",
    "    _vocab = sorted(vocab.items(), key=itemgetter(1), reverse=True)[:size]\n",
    "    id2word = [i[0] for i in _vocab]\n",
    "    word2id = {id2word[i]:i for i in range(len(id2word))}\n",
    "    return _vocab, id2word, word2id\n",
    "\n",
    "def make_set(pos, neg, vocab, shuffle=True):\n",
    "    '''\n",
    "        Cleans, shuffles and transforms a text into the correct format for learning\n",
    "        Input: list pos, list neg, list vocab, boolean shuffle\n",
    "    '''\n",
    "    X = [clean_and_split(i) for i in pos + neg]\n",
    "    y = [1] *len(pos) + [0] * len(neg)\n",
    "    if shuffle:\n",
    "        shuffle_arr(X)\n",
    "        shuffle_arr(y)\n",
    "    return to_bow(X, vocab), np.array(y)\n",
    "\n",
    "def to_bow(X, vocab):\n",
    "    '''\n",
    "        Input: matrix X, list vocab\n",
    "        Output: Binary array indicating if the word appear in the sample\n",
    "    '''\n",
    "    \n",
    "    return np.array([[i in sample for i in vocab] for sample in X])"
   ]
  },
  {
   "cell_type": "code",
   "execution_count": 4,
   "metadata": {},
   "outputs": [],
   "source": [
    "try:\n",
    "    #Tries to load files from disk, if not existent then computes\n",
    "    X_train, y_train, X_val, y_val, X_test, y_test = pickle.load(open(\"data.pkl\", \"rb\"))\n",
    "    id2word, word2id = pickle. load(open(\"aux.pkl\", \"rb\"))\n",
    "except FileNotFoundError:\n",
    "    #Loading train and test set from files\n",
    "    train_pos = read_files('./train/pos')\n",
    "    train_neg = read_files('./train/neg')\n",
    "    test_pos = read_files('./test/pos')\n",
    "    test_neg = read_files('./test/neg')\n",
    "\n",
    "    #shuffling to avoid \"Sorted Bias\" \n",
    "    shuffle_arr(train_pos)\n",
    "    shuffle_arr(train_neg)\n",
    "\n",
    "    #Splitting the training set into training and validation\n",
    "    val_pos, val_neg = train_pos[:2500], train_neg[:2500]\n",
    "    train_pos, train_neg = train_pos[2500:], train_neg[2500:]\n",
    "    \n",
    "    #Builds vocabulary and util maps\n",
    "    vocab, id2word, word2id = vocabulary_builder(train_pos + train_neg)\n",
    "    \n",
    "    #transforming the sets into a binary representation\n",
    "    X_train, y_train = make_set(train_pos, train_neg, id2word)\n",
    "    X_val, y_val = make_set(val_pos,val_neg, id2word, False)\n",
    "    X_test, y_test = make_set(test_pos, test_neg, id2word, False)\n",
    "    \n",
    "    #dump files to disk\n",
    "    pickle.dump( (id2word, word2id), open(\"aux.pkl\", \"wb\"))\n",
    "    pickle.dump((X_train, y_train, X_val, y_val, X_test, y_test), open(\"data.pkl\", \"wb\"))"
   ]
  },
  {
   "cell_type": "code",
   "execution_count": 12,
   "metadata": {},
   "outputs": [
    {
     "name": "stdout",
     "output_type": "stream",
     "text": [
      "CPU times: user 2min 24s, sys: 3min 8s, total: 5min 32s\n",
      "Wall time: 5min 33s\n"
     ]
    },
    {
     "data": {
      "image/png": "[encoded data removed]",
      "text/plain": [
       "<Figure size 432x288 with 1 Axes>"
      ]
     },
     "metadata": {
      "needs_background": "light"
     },
     "output_type": "display_data"
    },
    {
     "name": "stdout",
     "output_type": "stream",
     "text": [
      "Accuracy: 0.70912\n"
     ]
    }
   ],
   "source": [
    "#Computes the logistic Regression given the \n",
    "%time w, c, vc = logit(X_train, y_train)\n",
    "fig, ax = plt.subplots()\n",
    "plot(c, label='Training')\n",
    "plot(vc, label='Validation')\n",
    "\n",
    "plt.legend()\n",
    "ax.set_xlabel('Epochs')\n",
    "ax.set_ylabel('Error')\n",
    "show()\n",
    "print(\"Accuracy: {}\".format(accuracy(X_test, y_test, w)))"
   ]
  },
  {
   "cell_type": "code",
   "execution_count": 6,
   "metadata": {},
   "outputs": [
    {
     "name": "stderr",
     "output_type": "stream",
     "text": [
      "/opt/conda/lib/python3.6/site-packages/sklearn/linear_model/logistic.py:433: FutureWarning: Default solver will be changed to 'lbfgs' in 0.22. Specify a solver to silence this warning.\n",
      "  FutureWarning)\n"
     ]
    },
    {
     "name": "stdout",
     "output_type": "stream",
     "text": [
      "CPU times: user 2.2 s, sys: 129 ms, total: 2.33 s\n",
      "Wall time: 2.35 s\n",
      "0.84704\n"
     ]
    }
   ],
   "source": [
    "#Left for comparison\n",
    "from sklearn.linear_model import LogisticRegression\n",
    "from sklearn.metrics import accuracy_score \n",
    "model = LogisticRegression(n_jobs=-1, max_iter=300)\n",
    "%time model.fit(X_train, y_train)\n",
    "predicted_classes = model.predict(X_test)\n",
    "print(accuracy_score(y_test, predicted_classes))"
   ]
  }
 ],
 "metadata": {
  "kernelspec": {
   "display_name": "Python 3",
   "language": "python",
   "name": "python3"
  },
  "language_info": {
   "codemirror_mode": {
    "name": "ipython",
    "version": 3
   },
   "file_extension": ".py",
   "mimetype": "text/x-python",
   "name": "python",
   "nbconvert_exporter": "python",
   "pygments_lexer": "ipython3",
   "version": "3.6.8"
  }
 },
 "nbformat": 4,
 "nbformat_minor": 2
}
